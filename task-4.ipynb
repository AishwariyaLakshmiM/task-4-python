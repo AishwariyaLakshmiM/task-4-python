{
 "cells": [
  {
   "cell_type": "code",
   "execution_count": 1,
   "id": "bf8ae755-0a67-4093-a77b-b0e34fada100",
   "metadata": {},
   "outputs": [
    {
     "name": "stdout",
     "output_type": "stream",
     "text": [
      "Simple Calculator\n"
     ]
    },
    {
     "name": "stdin",
     "output_type": "stream",
     "text": [
      "Enter the first number:  12\n",
      "Enter operation (+, -, *, /):  +\n",
      "Enter the second number:  2\n"
     ]
    },
    {
     "name": "stdout",
     "output_type": "stream",
     "text": [
      "12.0 + 2.0 = 14.0\n"
     ]
    }
   ],
   "source": [
    "def add(a, b):\n",
    "    return a + b\n",
    "def subtract(a, b):\n",
    "    return a - b\n",
    "def multiply(a, b):\n",
    "    return a * b\n",
    "def divide(a, b):\n",
    "    if b == 0:\n",
    "        return \"Error: Division by zero\"\n",
    "    return a / b\n",
    "def get_number(prompt):\n",
    "    while True:\n",
    "        try:\n",
    "            return float(input(prompt))\n",
    "        except ValueError:\n",
    "            print(\"Invalid input. Please enter a number.\")\n",
    "def get_operation():\n",
    "    operations = {'+': add, '-': subtract, '*': multiply, '/': divide}\n",
    "    while True:\n",
    "        op = input(\"Enter operation (+, -, *, /): \")\n",
    "        if op in operations:\n",
    "            return operations[op], op\n",
    "        print(\"Invalid operation. Please enter one of +, -, *, /.\")\n",
    "def main():\n",
    "    print(\"Simple Calculator\")\n",
    "    num1 = get_number(\"Enter the first number: \")\n",
    "    operation, op_symbol = get_operation()\n",
    "    num2 = get_number(\"Enter the second number: \")\n",
    "    result = operation(num1, num2)\n",
    "    print(f\"{num1} {op_symbol} {num2} = {result}\")\n",
    "if __name__ == \"__main__\":\n",
    "    main()"
   ]
  },
  {
   "cell_type": "code",
   "execution_count": null,
   "id": "2fe56473-bea1-4f7d-a671-49ff3d57b4a3",
   "metadata": {},
   "outputs": [],
   "source": []
  }
 ],
 "metadata": {
  "kernelspec": {
   "display_name": "Python 3 (ipykernel)",
   "language": "python",
   "name": "python3"
  },
  "language_info": {
   "codemirror_mode": {
    "name": "ipython",
    "version": 3
   },
   "file_extension": ".py",
   "mimetype": "text/x-python",
   "name": "python",
   "nbconvert_exporter": "python",
   "pygments_lexer": "ipython3",
   "version": "3.12.4"
  }
 },
 "nbformat": 4,
 "nbformat_minor": 5
}
